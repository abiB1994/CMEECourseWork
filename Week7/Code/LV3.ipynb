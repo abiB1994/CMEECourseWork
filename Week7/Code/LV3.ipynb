{
 "cells": [
  {
   "cell_type": "code",
   "execution_count": 86,
   "metadata": {
    "collapsed": true
   },
   "outputs": [],
   "source": [
    "\"\"\" The typical Lotka-Volterra Model simulated using scipy, \n",
    "with appropriate parameters \"\"\"\n",
    "\n",
    "# !usr/bin/envs python\n",
    "\n",
    "__author__ = 'Abigail Baines (a.baines17@imperial.ac.uk)'\n",
    "__version__ = '0.0.1'\n",
    "\n",
    "import scipy as sc \n",
    "import scipy.integrate as integrate\n",
    "import pylab as p #Contains matplotlib for plotting\n",
    "import sys\n",
    "import matplotlib\n",
    "\n",
    "%matplotlib inline"
   ]
  },
  {
   "cell_type": "code",
   "execution_count": 87,
   "metadata": {
    "collapsed": true
   },
   "outputs": [],
   "source": [
    "def dR_dt(pops, t=0):\n",
    "    \"\"\" Returns the growth rate of predator and prey populations at any \n",
    "    given time step \"\"\"\n",
    "    \n",
    "    R = pops[0]\n",
    "    C = pops[1]\n",
    "    dRdt = r*R*(1 - R/K) - a*R*C \n",
    "    dydt = -z*C + e*a*R*C\n",
    "    \n",
    "    return sc.array([dRdt, dydt])\n"
   ]
  },
  {
   "cell_type": "code",
   "execution_count": 88,
   "metadata": {
    "collapsed": true
   },
   "outputs": [],
   "source": [
    "r = .5 # Resource growth rate\n",
    "a = 0.1 # Consumer search rate (determines consumption rate) \n",
    "z = 1.5 # Consumer mortality rate\n",
    "e = .75 # Consumer production efficiency\n",
    "K = 30 # Carrying capacity"
   ]
  },
  {
   "cell_type": "code",
   "execution_count": 89,
   "metadata": {},
   "outputs": [
    {
     "name": "stdout",
     "output_type": "stream",
     "text": [
      "Choose an end year: 50\n",
      "Choose how many points: 10000\n",
      "[  0.00000000e+00   5.00050005e-03   1.00010001e-02 ...,   4.99899990e+01\n",
      "   4.99949995e+01   5.00000000e+01]\n"
     ]
    }
   ],
   "source": [
    "\n",
    "# Now define time \n",
    "t = sc.linspace(0, int(input(\"Choose an end year: \")), int(input(\"Choose how many points: \")))\n",
    "print (t) \n"
   ]
  },
  {
   "cell_type": "code",
   "execution_count": 90,
   "metadata": {
    "collapsed": true
   },
   "outputs": [],
   "source": [
    "\n",
    "x0 = 15\n",
    "y0 = 4\n",
    "z0 = sc.array([x0, y0]) # initials conditions: 10 prey and 5 predators per unit area\n"
   ]
  },
  {
   "cell_type": "code",
   "execution_count": 91,
   "metadata": {},
   "outputs": [
    {
     "name": "stdout",
     "output_type": "stream",
     "text": [
      "Integration successful.\n"
     ]
    }
   ],
   "source": [
    "pops, infodict = integrate.odeint(dR_dt, z0, t, full_output=True)\n",
    "\n",
    "print (infodict['message'])     # >>> 'Integration successful.'"
   ]
  },
  {
   "cell_type": "code",
   "execution_count": 92,
   "metadata": {},
   "outputs": [
    {
     "data": {
      "text/plain": [
       "Text(0.8,0.6,' r =0.5\\n a =0.1\\n z = 1.5\\n e = 0.75\\n K = 30')"
      ]
     },
     "execution_count": 92,
     "metadata": {},
     "output_type": "execute_result"
    },
    {
     "data": {
      "image/png": "[encoded data removed]",
      "text/plain": [
       "<matplotlib.figure.Figure at 0x7f2a6a452e80>"
      ]
     },
     "metadata": {},
     "output_type": "display_data"
    }
   ],
   "source": [
    "prey, predators = pops.T # What's this for?\n",
    "f1 = p.figure() #Open empty figure object\n",
    "p.plot(t, prey, 'g-', label='Resource density') # Plot\n",
    "p.plot(t, predators  , 'b-', label='Consumer density')\n",
    "p.grid()\n",
    "p.figtext(.8, .6, \" r =\" + str(r) + \"\\n a =\" + str(a) + \"\\n z = \" + str(z)\n",
    "\t\t\t+ \"\\n e = \" + str(e) + \"\\n K = \" + str(K))"
   ]
  },
  {
   "cell_type": "code",
   "execution_count": 93,
   "metadata": {},
   "outputs": [
    {
     "data": {
      "image/png": "[encoded data removed]",
      "text/plain": [
       "<matplotlib.figure.Figure at 0x7f2a6a476588>"
      ]
     },
     "metadata": {},
     "output_type": "display_data"
    }
   ],
   "source": [
    "p.legend(loc='best')\n",
    "p.xlabel('Time')\n",
    "p.ylabel('Population')\n",
    "p.title('Consumer-Resource population dynamics')\n",
    "p.show()"
   ]
  },
  {
   "cell_type": "code",
   "execution_count": 94,
   "metadata": {},
   "outputs": [
    {
     "name": "stdout",
     "output_type": "stream",
     "text": [
      "The preys final population density is: 1.67 and the final predators population: 20.00\n"
     ]
    }
   ],
   "source": [
    "#f1.savefig('../Results/prey_and_predators_1.pdf') #Save figure\n",
    "prey = list(pops.T[1])\n",
    "pred = list(pops.T[0])\n",
    "\n",
    "print (\"The preys final population density is: {0:.2f} and the final predators population: {1:.2f}\".format(prey[-1], pred[-1]))"
   ]
  },
  {
   "cell_type": "code",
   "execution_count": 95,
   "metadata": {},
   "outputs": [
    {
     "ename": "SystemExit",
     "evalue": "I have excited now",
     "output_type": "error",
     "traceback": [
      "An exception has occurred, use %tb to see the full traceback.\n",
      "\u001b[0;31mSystemExit\u001b[0m\u001b[0;31m:\u001b[0m I have excited now\n"
     ]
    },
    {
     "name": "stderr",
     "output_type": "stream",
     "text": [
      "/home/abi/anaconda3/lib/python3.6/site-packages/IPython/core/interactiveshell.py:2870: UserWarning: To exit: use 'exit', 'quit', or Ctrl-D.\n",
      "  warn(\"To exit: use 'exit', 'quit', or Ctrl-D.\", stacklevel=1)\n"
     ]
    }
   ],
   "source": [
    "if __name__ == \"__main__\":\n",
    "\t\tsys.exit(\"I have excited now\")"
   ]
  },
  {
   "cell_type": "code",
   "execution_count": null,
   "metadata": {
    "collapsed": true
   },
   "outputs": [],
   "source": []
  },
  {
   "cell_type": "code",
   "execution_count": null,
   "metadata": {
    "collapsed": true
   },
   "outputs": [],
   "source": []
  },
  {
   "cell_type": "code",
   "execution_count": null,
   "metadata": {
    "collapsed": true
   },
   "outputs": [],
   "source": []
  },
  {
   "cell_type": "code",
   "execution_count": null,
   "metadata": {
    "collapsed": true
   },
   "outputs": [],
   "source": []
  }
 ],
 "metadata": {
  "kernelspec": {
   "display_name": "Python 3",
   "language": "python",
   "name": "python3"
  },
  "language_info": {
   "codemirror_mode": {
    "name": "ipython",
    "version": 3
   },
   "file_extension": ".py",
   "mimetype": "text/x-python",
   "name": "python",
   "nbconvert_exporter": "python",
   "pygments_lexer": "ipython3",
   "version": "3.6.3"
  }
 },
 "nbformat": 4,
 "nbformat_minor": 2
}
